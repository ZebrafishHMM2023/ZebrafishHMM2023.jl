{
 "cells": [
  {
   "cell_type": "code",
   "execution_count": 11,
   "metadata": {},
   "outputs": [],
   "source": [
    "import Makie\n",
    "import CairoMakie\n",
    "using ZebrafishHMM2023: normalize_all!, load_behaviour_free_swimming_trajs,\n",
    "    ZebrafishHMM_G4, markov_equilibrium, stubborness_factor\n",
    "using HiddenMarkovModels: baum_welch, viterbi\n",
    "using Statistics: mean, std\n",
    "using Distributions: Normal, Gamma, fit_mle\n",
    "using LinearAlgebra: eigen"
   ]
  },
  {
   "cell_type": "code",
   "execution_count": 2,
   "metadata": {},
   "outputs": [],
   "source": [
    "trajs = load_behaviour_free_swimming_trajs(18);"
   ]
  },
  {
   "cell_type": "code",
   "execution_count": 8,
   "metadata": {},
   "outputs": [
    {
     "data": {
      "text/plain": [
       "Gamma{Float64}(α=0.6174373575550176, θ=15.396806238735984)"
      ]
     },
     "metadata": {},
     "output_type": "display_data"
    }
   ],
   "source": [
    "fit_mle(Gamma, +filter(>(0), reduce(vcat, trajs)))"
   ]
  },
  {
   "cell_type": "code",
   "execution_count": 9,
   "metadata": {},
   "outputs": [
    {
     "data": {
      "text/plain": [
       "Gamma{Float64}(α=0.6112468205330461, θ=15.695592378162841)"
      ]
     },
     "metadata": {},
     "output_type": "display_data"
    }
   ],
   "source": [
    "fit_mle(Gamma, -filter(<(0), reduce(vcat, trajs)))"
   ]
  },
  {
   "cell_type": "code",
   "execution_count": 10,
   "metadata": {},
   "outputs": [],
   "source": [
    "hmm = ZebrafishHMM_G4(\n",
    "    rand(4),\n",
    "    rand(4,4),\n",
    "    Normal(0, 3),\n",
    "    Gamma(0.5, 20)\n",
    ")\n",
    "normalize_all!(hmm)\n",
    "(hmm, lL) = baum_welch(hmm, trajs, length(trajs); max_iterations = 100);"
   ]
  },
  {
   "cell_type": "code",
   "execution_count": 12,
   "metadata": {},
   "outputs": [
    {
     "data": {
      "image/png": "[encoded data removed]"
     },
     "metadata": {},
     "output_type": "display_data"
    }
   ],
   "source": [
    "fig = Makie.Figure()\n",
    "ax = Makie.Axis(fig[1,1], width=400, height=250)\n",
    "Makie.scatterlines!(ax, lL, color=:black)\n",
    "Makie.resize_to_layout!(fig)\n",
    "fig"
   ]
  },
  {
   "cell_type": "code",
   "execution_count": 15,
   "metadata": {},
   "outputs": [],
   "source": [
    "sim_trajs = [rand(hmm, length(t)) for t = trajs];"
   ]
  },
  {
   "cell_type": "code",
   "execution_count": 25,
   "metadata": {},
   "outputs": [
    {
     "data": {
      "text/plain": [
       "stubborn_segments (generic function with 2 methods)"
      ]
     },
     "metadata": {},
     "output_type": "display_data"
    }
   ],
   "source": [
    "function stubborn_segments(state_seq::AbstractVector{Int})\n",
    "    L = findall(==(3), state_seq)\n",
    "    R = findall(==(4), state_seq)\n",
    "\n",
    "    L_to_L = Tuple{Int,Int}[]\n",
    "    R_to_R = Tuple{Int,Int}[]\n",
    "    L_to_R = Tuple{Int,Int}[]\n",
    "    R_to_L = Tuple{Int,Int}[]\n",
    "\n",
    "    for i = eachindex(state_seq), j = eachindex(state_seq)\n",
    "        if i < j && all(∈((1,2)), state_seq[i + 1:j - 1])\n",
    "            if state_seq[i] == state_seq[j] == 3\n",
    "                push!(L_to_L, (i, j))\n",
    "            elseif state_seq[i] == state_seq[j] == 4\n",
    "                push!(R_to_R, (i, j))\n",
    "            elseif state_seq[i] == 3 && state_seq[j] == 4\n",
    "                push!(L_to_R, (i, j))\n",
    "            elseif state_seq[i] == 4 && state_seq[j] == L\n",
    "                push!(R_to_L, (i, j))\n",
    "            end\n",
    "        end\n",
    "    end\n",
    "\n",
    "    return (; L_to_L, R_to_R, L_to_R, R_to_L)\n",
    "end"
   ]
  },
  {
   "cell_type": "code",
   "execution_count": 29,
   "metadata": {},
   "outputs": [],
   "source": [
    "segments = [stubborn_segments(t.state_seq) for t = sim_trajs];"
   ]
  },
  {
   "cell_type": "code",
   "execution_count": 34,
   "metadata": {},
   "outputs": [],
   "source": [
    "all_L_to_L = reduce(vcat, s.L_to_L for s = segments);\n",
    "all_R_to_R = reduce(vcat, s.R_to_R for s = segments);\n",
    "all_L_to_R = reduce(vcat, s.L_to_R for s = segments);\n",
    "all_L_to_R = reduce(vcat, s.L_to_R for s = segments);"
   ]
  },
  {
   "cell_type": "code",
   "execution_count": null,
   "metadata": {},
   "outputs": [],
   "source": []
  }
 ],
 "metadata": {
  "kernelspec": {
   "display_name": "Julia 1.9.3",
   "language": "julia",
   "name": "julia-1.9"
  },
  "language_info": {
   "file_extension": ".jl",
   "mimetype": "application/julia",
   "name": "julia",
   "version": "1.9.3"
  }
 },
 "nbformat": 4,
 "nbformat_minor": 2
}
